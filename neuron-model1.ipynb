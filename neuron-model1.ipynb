{
 "cells": [
  {
   "cell_type": "code",
   "execution_count": 18,
   "metadata": {},
   "outputs": [],
   "source": [
    "import numpy as np"
   ]
  },
  {
   "cell_type": "code",
   "execution_count": 19,
   "metadata": {
    "tags": []
   },
   "outputs": [
    {
     "output_type": "stream",
     "name": "stdout",
     "text": "(100,)\n-8\n-8\n"
    }
   ],
   "source": [
    "ip=np.random.choice([0,1],size=100)\n",
    "print(ip.shape)\n",
    "w=np.random.choice([1,-1],size=100)\n",
    "# w=np.transpose(w)\n",
    "# print(w.shape)\n",
    "# ip=np.array([1,0,1,0,1])\n",
    "# w=np.array([1,-1,1,1,-1])\n",
    "# print(ip*w)\n",
    "print(sum(ip*w))\n",
    "s=sum(ip*w)\n",
    "print(s)"
   ]
  },
  {
   "cell_type": "code",
   "execution_count": 20,
   "metadata": {
    "vscode": {},
    "tags": []
   },
   "outputs": [
    {
     "output_type": "stream",
     "name": "stdout",
     "text": "0\n"
    }
   ],
   "source": [
    "# unipolar binary step\n",
    "if(s<0):\n",
    "    a=0\n",
    "else: a=1\n",
    "print(a)"
   ]
  },
  {
   "cell_type": "code",
   "execution_count": 21,
   "metadata": {
    "vscode": {},
    "tags": []
   },
   "outputs": [
    {
     "output_type": "stream",
     "name": "stdout",
     "text": "-1\n"
    }
   ],
   "source": [
    "# bipolar binary step\n",
    "if(s<0):\n",
    "    a=-1\n",
    "else: a=1\n",
    "print(a)"
   ]
  },
  {
   "cell_type": "code",
   "execution_count": 22,
   "metadata": {
    "tags": []
   },
   "outputs": [
    {
     "output_type": "stream",
     "name": "stdout",
     "text": "-0.9999997749296758\n"
    }
   ],
   "source": [
    "# tanh\n",
    "print(np.tanh(s))"
   ]
  },
  {
   "cell_type": "code",
   "execution_count": 23,
   "metadata": {
    "tags": []
   },
   "outputs": [
    {
     "output_type": "stream",
     "name": "stdout",
     "text": "-1.446441332248135\n"
    }
   ],
   "source": [
    "#arctan\n",
    "print(np.arctan(s))"
   ]
  },
  {
   "cell_type": "code",
   "execution_count": 24,
   "metadata": {
    "tags": []
   },
   "outputs": [
    {
     "output_type": "stream",
     "name": "stdout",
     "text": "0.0003353501304664781\n"
    }
   ],
   "source": [
    "#unipolar sigmoid\n",
    "print(1/(1+np.exp(-s)))"
   ]
  },
  {
   "cell_type": "code",
   "execution_count": 25,
   "metadata": {
    "tags": []
   },
   "outputs": [
    {
     "output_type": "stream",
     "name": "stdout",
     "text": "-0.999329299739067\n"
    }
   ],
   "source": [
    "#bipolar sigmoid\n",
    "print((2/(1+np.exp(-s)))-1)"
   ]
  },
  {
   "cell_type": "code",
   "execution_count": 26,
   "metadata": {
    "tags": []
   },
   "outputs": [
    {
     "output_type": "stream",
     "name": "stdout",
     "text": "0.000335406366606561\n"
    }
   ],
   "source": [
    "# complimentary log-log\n",
    "print(1-np.exp(-np.exp(s)))"
   ]
  },
  {
   "cell_type": "code",
   "execution_count": 27,
   "metadata": {
    "tags": []
   },
   "outputs": [
    {
     "output_type": "stream",
     "name": "stdout",
     "text": "-1.7158200096912\n"
    }
   ],
   "source": [
    "# LeCun's Tanh\n",
    "print(1.7159*np.tanh(2/3*s))"
   ]
  },
  {
   "cell_type": "code",
   "execution_count": 28,
   "metadata": {
    "tags": []
   },
   "outputs": [
    {
     "output_type": "stream",
     "name": "stdout",
     "text": "-1\n"
    }
   ],
   "source": [
    "#hard tanh\n",
    "print(np.maximum(-1,np.minimum(1,s)))"
   ]
  },
  {
   "cell_type": "code",
   "execution_count": 29,
   "metadata": {
    "tags": []
   },
   "outputs": [
    {
     "output_type": "stream",
     "name": "stdout",
     "text": "8\n"
    }
   ],
   "source": [
    "# absolute function\n",
    "print(np.absolute(s))"
   ]
  },
  {
   "cell_type": "code",
   "execution_count": 30,
   "metadata": {
    "vscode": {},
    "tags": []
   },
   "outputs": [
    {
     "output_type": "stream",
     "name": "stdout",
     "text": "0\n"
    }
   ],
   "source": [
    "#ReLU\n",
    "print(np.maximum(0,s))"
   ]
  },
  {
   "cell_type": "code",
   "execution_count": 31,
   "metadata": {
    "vscode": {},
    "tags": []
   },
   "outputs": [
    {
     "output_type": "stream",
     "name": "stdout",
     "text": "0.0003354063728956624\n"
    }
   ],
   "source": [
    "# smooth ReLU\n",
    "print(np.log(1+np.exp(s)))"
   ]
  },
  {
   "cell_type": "code",
   "execution_count": 32,
   "metadata": {
    "vscode": {},
    "tags": []
   },
   "outputs": [
    {
     "output_type": "stream",
     "name": "stdout",
     "text": "-0.08\n"
    }
   ],
   "source": [
    "# Leaky ReLU\n",
    "print(np.maximum(0.01*s,s))"
   ]
  },
  {
   "cell_type": "code",
   "execution_count": 33,
   "metadata": {
    "tags": []
   },
   "outputs": [
    {
     "output_type": "stream",
     "name": "stdout",
     "text": "nan\n"
    }
   ],
   "source": [
    "# Logit\n",
    "print(np.log(s/(1-s)))"
   ]
  },
  {
   "cell_type": "code",
   "execution_count": 34,
   "metadata": {
    "tags": []
   },
   "outputs": [
    {
     "output_type": "stream",
     "name": "stdout",
     "text": "2.8754039535632963e-06\n"
    }
   ],
   "source": [
    "# Softmax\n",
    "ps=np.exp(ip*w)\n",
    "print(np.exp(s)/sum(ps))"
   ]
  }
 ],
 "metadata": {
  "kernelspec": {
   "display_name": "Python 3.8.5 64-bit",
   "name": "python38564bit118e8cfdc3264e5da87e31ad60e26553"
  },
  "language_info": {
   "codemirror_mode": {
    "name": "ipython",
    "version": 3
   },
   "file_extension": ".py",
   "mimetype": "text/x-python",
   "name": "python",
   "nbconvert_exporter": "python",
   "pygments_lexer": "ipython3",
   "version": "3.8.5-final"
  },
  "orig_nbformat": 2
 },
 "nbformat": 4,
 "nbformat_minor": 2
}